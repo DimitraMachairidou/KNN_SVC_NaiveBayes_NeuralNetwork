{
 "cells": [
  {
   "cell_type": "code",
   "execution_count": 1,
   "metadata": {},
   "outputs": [
    {
     "name": "stderr",
     "output_type": "stream",
     "text": [
      "C:\\Users\\Thanos\\Anaconda3\\lib\\site-packages\\pandas\\compat\\_optional.py:138: UserWarning: Pandas requires version '2.7.0' or newer of 'numexpr' (version '2.6.9' currently installed).\n",
      "  warnings.warn(msg, UserWarning)\n"
     ]
    }
   ],
   "source": [
    "import numpy as np # linear algebra\n",
    "import pandas as pd # data processing, CSV file I/O (e.g. pd.read_csv)\n",
    "\n",
    "from sklearn import preprocessing\n",
    "from sklearn import metrics\n",
    "\n",
    "from sklearn.model_selection import train_test_split\n",
    "from sklearn.model_selection import GridSearchCV\n",
    "from sklearn.neighbors import KNeighborsClassifier\n",
    "from sklearn.svm import SVC\n"
   ]
  },
  {
   "cell_type": "code",
   "execution_count": 2,
   "metadata": {},
   "outputs": [],
   "source": [
    "traindata=pd.read_csv('C:/Users/Thanos/Desktop/12TH SEMESTER/ΜΗΧΑΝΙΚΗ ΜΑΘΗΣΗ/PROJECT/train.csv')"
   ]
  },
  {
   "cell_type": "code",
   "execution_count": null,
   "metadata": {},
   "outputs": [],
   "source": [
    "traindata.isnull().sum()"
   ]
  },
  {
   "cell_type": "code",
   "execution_count": null,
   "metadata": {},
   "outputs": [],
   "source": [
    "#exairw to id apo ta dedomena giati prosthetei epipleon thoryvo\n",
    "train_data = traindata.drop(['id'], axis = 1)"
   ]
  },
  {
   "cell_type": "code",
   "execution_count": null,
   "metadata": {
    "scrolled": true
   },
   "outputs": [],
   "source": [
    "# Use LabelEncoder for the 'color' feature\n",
    "#metatrepw to color se float number apo 0-1\n",
    "color = preprocessing.LabelEncoder()\n",
    "color.fit(train_data['color'])\n",
    "train_data['color'] = color.transform(train_data['color'])\n",
    "train_data['color'] = train_data['color']/6\n",
    "train_data.head()"
   ]
  },
  {
   "cell_type": "code",
   "execution_count": null,
   "metadata": {},
   "outputs": [],
   "source": [
    "accuracy_scorer = metrics.make_scorer(metrics.accuracy_score)"
   ]
  },
  {
   "cell_type": "code",
   "execution_count": null,
   "metadata": {},
   "outputs": [],
   "source": [
    "# xwrizw to train data se train kai test data me 25% pososto\n",
    "X = (train_data.drop('type', axis = 1))\n",
    "X_train, X_test, y_train, y_test = train_test_split(X, train_data['type'], test_size = 0.25, random_state = 0)"
   ]
  },
  {
   "cell_type": "code",
   "execution_count": null,
   "metadata": {},
   "outputs": [],
   "source": [
    "#KNeighborsclassifier\n",
    "params = {'n_neighbors':[1, 3, 5, 10], 'leaf_size': [5], 'p': [2], 'weights': ['distance']}\n",
    "knc = KNeighborsClassifier()\n",
    "#Using GridSearch to find the number of neighbors that gives the best score\n",
    "clf = GridSearchCV(knc, param_grid = params, scoring = accuracy_scorer, cv = 5, n_jobs = -1)\n",
    "clf.fit(X_train, y_train)\n",
    "print('Best score: {}'.format(clf.best_score_))\n",
    "print('Best parameters: {}'.format(clf.best_params_))\n",
    "\n",
    "knc_best = KNeighborsClassifier(n_neighbors = 10)"
   ]
  },
  {
   "cell_type": "code",
   "execution_count": null,
   "metadata": {},
   "outputs": [],
   "source": [
    "y_pred = clf.predict(X_test)\n",
    "print(\"\\nF1 Score is: \" + str(metrics.f1_score(y_test, y_pred, average= \"weighted\")))\n",
    "print(\"\\nAccuracy Score is: \" + str(metrics.accuracy_score(y_test, y_pred)))"
   ]
  },
  {
   "cell_type": "code",
   "execution_count": null,
   "metadata": {},
   "outputs": [],
   "source": [
    "#SVCclassifier(kernel)\n",
    "clf = SVC(kernel='linear', probability=True)\n",
    "clf.fit(X_train,y_train)\n",
    "y_pred = clf.predict(X_test)\n",
    "print(\"\\nF1 Score is: \" + str(metrics.f1_score(y_test, y_pred, average= \"weighted\")))\n",
    "print(\"\\nAccuracy Score is: \" + str(metrics.accuracy_score(y_test, y_pred)))"
   ]
  },
  {
   "cell_type": "code",
   "execution_count": null,
   "metadata": {},
   "outputs": [],
   "source": [
    "#SVCclassifier(Gaussian)\n",
    "params = {'kernel':['rbf'], 'C':[ 1,2,3,5,8,10]}\n",
    "svc = SVC(probability = True, random_state = 0)\n",
    "#Using GridSearch to find the best regularization parameter (C) that gives the best score\n",
    "clf = GridSearchCV(svc, param_grid = params, scoring = accuracy_scorer, cv = 5, n_jobs = -1)\n",
    "clf.fit(X_train, y_train)\n",
    "print('Best score: {}'.format(clf.best_score_))\n",
    "print('Best parameters: {}'.format(clf.best_params_))\n",
    "\n",
    "svc_best = SVC(C = 1,kernel = 'rbf', probability = True, random_state = 0)"
   ]
  },
  {
   "cell_type": "code",
   "execution_count": null,
   "metadata": {},
   "outputs": [],
   "source": [
    "y_pred = clf.predict(X_test)\n",
    "print(\"\\nF1 Score is: \" + str(metrics.f1_score(y_test, y_pred, average= \"weighted\")))\n",
    "print(\"\\nAccuracy Score is: \" + str(metrics.accuracy_score(y_test, y_pred)))"
   ]
  },
  {
   "cell_type": "code",
   "execution_count": null,
   "metadata": {},
   "outputs": [],
   "source": []
  },
  {
   "cell_type": "code",
   "execution_count": null,
   "metadata": {},
   "outputs": [],
   "source": []
  }
 ],
 "metadata": {
  "kernelspec": {
   "display_name": "Python 3",
   "language": "python",
   "name": "python3"
  },
  "language_info": {
   "codemirror_mode": {
    "name": "ipython",
    "version": 3
   },
   "file_extension": ".py",
   "mimetype": "text/x-python",
   "name": "python",
   "nbconvert_exporter": "python",
   "pygments_lexer": "ipython3",
   "version": "3.7.3"
  }
 },
 "nbformat": 4,
 "nbformat_minor": 2
}
