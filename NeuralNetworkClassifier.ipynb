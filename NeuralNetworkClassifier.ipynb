{
 "cells": [
  {
   "cell_type": "code",
   "execution_count": null,
   "metadata": {},
   "outputs": [],
   "source": [
    "import numpy as np # linear algebra\n",
    "import pandas as pd # data processing, CSV file I/O (e.g. pd.read_csv)\n",
    "\n",
    "from sklearn import preprocessing\n",
    "from sklearn import metrics\n",
    "\n",
    "from sklearn.model_selection import train_test_split\n",
    "from sklearn.model_selection import GridSearchCV\n",
    "from tensorflow import keras\n",
    "from keras.models import Sequential\n",
    "from keras.layers import Dense,Dropout\n",
    "from tensorflow.keras import layers\n"
   ]
  },
  {
   "cell_type": "code",
   "execution_count": null,
   "metadata": {},
   "outputs": [],
   "source": [
    "traindata=pd.read_csv('C:/Users/Thanos/Desktop/12TH SEMESTER/ΜΗΧΑΝΙΚΗ ΜΑΘΗΣΗ/PROJECT/train.csv')"
   ]
  },
  {
   "cell_type": "code",
   "execution_count": null,
   "metadata": {},
   "outputs": [],
   "source": [
    "train_data = traindata.drop(['id'], axis = 1)"
   ]
  },
  {
   "cell_type": "code",
   "execution_count": null,
   "metadata": {},
   "outputs": [],
   "source": [
    "color = preprocessing.LabelEncoder()\n",
    "color.fit(train_data['color'])\n",
    "train_data['color'] = color.transform(train_data['color'])\n",
    "train_data['color'] = train_data['color']/6"
   ]
  },
  {
   "cell_type": "code",
   "execution_count": null,
   "metadata": {},
   "outputs": [],
   "source": [
    "accuracy_scorer = metrics.make_scorer(metrics.accuracy_score)"
   ]
  },
  {
   "cell_type": "code",
   "execution_count": null,
   "metadata": {},
   "outputs": [],
   "source": [
    "type = preprocessing.LabelEncoder()\n",
    "type.fit(train_data['type'])\n",
    "train_data['type'] = type.transform(train_data['type'])"
   ]
  },
  {
   "cell_type": "code",
   "execution_count": null,
   "metadata": {},
   "outputs": [],
   "source": [
    "X = train_data.drop(['type'], axis=1)\n",
    "y = pd.get_dummies(train_data['type'])"
   ]
  },
  {
   "cell_type": "code",
   "execution_count": null,
   "metadata": {},
   "outputs": [],
   "source": [
    "# xwrizw to train data se train kai test data\n",
    "X_train, X_test, y_train, y_test = train_test_split(X, y, test_size = 0.25, random_state = 0)"
   ]
  },
  {
   "cell_type": "code",
   "execution_count": null,
   "metadata": {},
   "outputs": [],
   "source": [
    "#NeuralNetworkClassifier\n",
    "model = Sequential()\n",
    "model.add(Dense(200, input_shape=(X_train.shape[1],))) #1o layer\n",
    "model.add(Dense(3, activation='softmax')) #output layer\n",
    "\n",
    "opt = keras.optimizers.SGD(learning_rate=0.5) #Stochastic Gradient Descend\n",
    "\n",
    "model.compile(optimizer=opt, loss='categorical_crossentropy', metrics=['accuracy'])\n"
   ]
  },
  {
   "cell_type": "code",
   "execution_count": null,
   "metadata": {},
   "outputs": [],
   "source": [
    "#NeuralNetworkClassifier\n",
    "model2 = Sequential()\n",
    "model2.add(Dense(200, input_shape=(X_train.shape[1],))) #1o layer\n",
    "model2.add(Dense(100, activation='sigmoid')) #2o layer\n",
    "model2.add(Dense(3, activation='softmax')) #output layer\n",
    "\n",
    "opt2 = keras.optimizers.SGD(learning_rate=0.5) #Stochastic Gradient Descend\n",
    "\n",
    "model2.compile(optimizer=opt2, loss='categorical_crossentropy', metrics=['accuracy'])\n"
   ]
  },
  {
   "cell_type": "code",
   "execution_count": null,
   "metadata": {},
   "outputs": [],
   "source": [
    "model_data = model.fit(X_train, y_train, validation_data=(X_test, y_test), epochs=30) # ekpaideysi toy neuronikou diktyou"
   ]
  },
  {
   "cell_type": "code",
   "execution_count": null,
   "metadata": {},
   "outputs": [],
   "source": [
    "model2_data = model2.fit(X_train, y_train, validation_data=(X_test, y_test), epochs=47)"
   ]
  },
  {
   "cell_type": "code",
   "execution_count": null,
   "metadata": {},
   "outputs": [],
   "source": [
    "Accuracy = model.evaluate(X_test,  y_test)\n",
    "\n",
    "print('\\nTest accuracy:', Accuracy)"
   ]
  },
  {
   "cell_type": "code",
   "execution_count": null,
   "metadata": {},
   "outputs": [],
   "source": [
    "Accuracy2 = model2.evaluate(X_test,  y_test)\n",
    "\n",
    "print('\\nTest accuracy:', Accuracy2)"
   ]
  },
  {
   "cell_type": "code",
   "execution_count": null,
   "metadata": {},
   "outputs": [],
   "source": []
  }
 ],
 "metadata": {
  "kernelspec": {
   "display_name": "Python 3",
   "language": "python",
   "name": "python3"
  },
  "language_info": {
   "codemirror_mode": {
    "name": "ipython",
    "version": 3
   },
   "file_extension": ".py",
   "mimetype": "text/x-python",
   "name": "python",
   "nbconvert_exporter": "python",
   "pygments_lexer": "ipython3",
   "version": "3.7.3"
  }
 },
 "nbformat": 4,
 "nbformat_minor": 2
}
